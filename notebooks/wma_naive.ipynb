{
 "cells": [
  {
   "cell_type": "code",
   "execution_count": 14,
   "metadata": {},
   "outputs": [],
   "source": [
    "%matplotlib inline\n",
    "import seaborn as sns\n",
    "import matplotlib.pyplot as plt\n",
    "import pandas as pd\n",
    "import json\n",
    "import os, sys\n",
    "\n",
    "sns.set_style(\"whitegrid\")"
   ]
  },
  {
   "cell_type": "code",
   "execution_count": 15,
   "metadata": {},
   "outputs": [],
   "source": [
    "alldata = pd.DataFrame()\n",
    "gl_p_list = [(\"/q/storage/alogins/fcla_data/geometric_with_coords/greedy/solutions/\", \"Uniform\"),\n",
    "             (\"/q/storage/alogins/fcla_data/clustered/greedy/solutions/\", \"Clustered\")]\n",
    "for gl_p, name in gl_p_list:\n",
    "    fullp = gl_p + \"fcla_greedy_rand_2\"\n",
    "    for f in os.listdir(fullp):\n",
    "        d = json.load(open(os.path.join(fullp, f), \"r\"))\n",
    "        r = {}\n",
    "        r['Order'] = 'Hilbert'\n",
    "        r['Graph'] = name\n",
    "        r['Objective'] = d['objective']\n",
    "        r['Runtime'] = d['runtime']\n",
    "        alldata = alldata.append(r, ignore_index=True)\n",
    "\n",
    "    fullp = gl_p + \"fcla_greedy_rand\"\n",
    "    for f in os.listdir(fullp):\n",
    "        d = json.load(open(os.path.join(fullp, f), \"r\"))\n",
    "        r = {}\n",
    "        r['Order'] = 'Random'\n",
    "        r['Graph'] = name\n",
    "        r['Objective'] = d['objective']\n",
    "        r['Runtime'] = d['runtime']\n",
    "        alldata = alldata.append(r, ignore_index=True)\n",
    "\n",
    "    fullp = gl_p + \"fcla_greedy_rand_3\"\n",
    "    for f in os.listdir(fullp):\n",
    "        d = json.load(open(os.path.join(fullp, f), \"r\"))\n",
    "        r = {}\n",
    "        r['Order'] = 'Distance'\n",
    "        r['Graph'] = name\n",
    "        r['Objective'] = d['objective']\n",
    "        r['Runtime'] = d['runtime']\n",
    "        alldata = alldata.append(r, ignore_index=True)\n",
    "\n",
    "    fullp = gl_p + \"fcla\"\n",
    "    for f in os.listdir(fullp):\n",
    "        d = json.load(open(os.path.join(fullp, f), \"r\"))\n",
    "        r = {}\n",
    "        r['Order'] = 'WMA'\n",
    "        r['Graph'] = name\n",
    "        r['Objective'] = d['objective']\n",
    "        r['Runtime'] = d['runtime']\n",
    "        alldata = alldata.append(r, ignore_index=True)"
   ]
  },
  {
   "cell_type": "code",
   "execution_count": 16,
   "metadata": {},
   "outputs": [
    {
     "data": {
      "text/html": [
       "<div>\n",
       "<style scoped>\n",
       "    .dataframe tbody tr th:only-of-type {\n",
       "        vertical-align: middle;\n",
       "    }\n",
       "\n",
       "    .dataframe tbody tr th {\n",
       "        vertical-align: top;\n",
       "    }\n",
       "\n",
       "    .dataframe thead th {\n",
       "        text-align: right;\n",
       "    }\n",
       "</style>\n",
       "<table border=\"1\" class=\"dataframe\">\n",
       "  <thead>\n",
       "    <tr style=\"text-align: right;\">\n",
       "      <th></th>\n",
       "      <th>Graph</th>\n",
       "      <th>Objective</th>\n",
       "      <th>Order</th>\n",
       "      <th>Runtime</th>\n",
       "    </tr>\n",
       "  </thead>\n",
       "  <tbody>\n",
       "    <tr>\n",
       "      <th>0</th>\n",
       "      <td>Uniform</td>\n",
       "      <td>82387.0</td>\n",
       "      <td>Hilbert</td>\n",
       "      <td>23.6562</td>\n",
       "    </tr>\n",
       "    <tr>\n",
       "      <th>1</th>\n",
       "      <td>Uniform</td>\n",
       "      <td>78736.0</td>\n",
       "      <td>Random</td>\n",
       "      <td>59.1140</td>\n",
       "    </tr>\n",
       "    <tr>\n",
       "      <th>2</th>\n",
       "      <td>Uniform</td>\n",
       "      <td>79186.0</td>\n",
       "      <td>Distance</td>\n",
       "      <td>57.5485</td>\n",
       "    </tr>\n",
       "    <tr>\n",
       "      <th>3</th>\n",
       "      <td>Uniform</td>\n",
       "      <td>37396.0</td>\n",
       "      <td>WMA</td>\n",
       "      <td>31.7123</td>\n",
       "    </tr>\n",
       "    <tr>\n",
       "      <th>4</th>\n",
       "      <td>Clustered</td>\n",
       "      <td>15534.0</td>\n",
       "      <td>Hilbert</td>\n",
       "      <td>36.6149</td>\n",
       "    </tr>\n",
       "  </tbody>\n",
       "</table>\n",
       "</div>"
      ],
      "text/plain": [
       "       Graph  Objective     Order  Runtime\n",
       "0    Uniform    82387.0   Hilbert  23.6562\n",
       "1    Uniform    78736.0    Random  59.1140\n",
       "2    Uniform    79186.0  Distance  57.5485\n",
       "3    Uniform    37396.0       WMA  31.7123\n",
       "4  Clustered    15534.0   Hilbert  36.6149"
      ]
     },
     "execution_count": 16,
     "metadata": {},
     "output_type": "execute_result"
    }
   ],
   "source": [
    "alldata.head()"
   ]
  },
  {
   "cell_type": "code",
   "execution_count": 17,
   "metadata": {},
   "outputs": [
    {
     "data": {
      "image/png": "[encoded data removed]",
      "text/plain": [
       "<Figure size 403.2x288 with 2 Axes>"
      ]
     },
     "metadata": {},
     "output_type": "display_data"
    }
   ],
   "source": [
    "sns.catplot(x=\"Order\", y=\"Objective\", col=\"Graph\", data=alldata, kind=\"bar\", height=4, aspect=.7);\n",
    "# sns.barplot(alldata['Objective'],alldata['Order'])"
   ]
  },
  {
   "cell_type": "code",
   "execution_count": null,
   "metadata": {},
   "outputs": [],
   "source": []
  },
  {
   "cell_type": "code",
   "execution_count": null,
   "metadata": {},
   "outputs": [],
   "source": []
  }
 ],
 "metadata": {
  "kernelspec": {
   "display_name": "Python 3",
   "language": "python",
   "name": "python3"
  },
  "language_info": {
   "codemirror_mode": {
    "name": "ipython",
    "version": 3
   },
   "file_extension": ".py",
   "mimetype": "text/x-python",
   "name": "python",
   "nbconvert_exporter": "python",
   "pygments_lexer": "ipython3",
   "version": "3.4.3"
  }
 },
 "nbformat": 4,
 "nbformat_minor": 2
}
