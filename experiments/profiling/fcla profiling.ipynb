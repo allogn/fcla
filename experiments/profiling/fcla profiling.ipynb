{
 "cells": [
  {
   "cell_type": "code",
   "execution_count": 138,
   "metadata": {
    "collapsed": true,
    "deletable": true,
    "editable": true
   },
   "outputs": [],
   "source": [
    "%matplotlib inline\n",
    "import pandas as pd\n",
    "import seaborn as sb\n",
    "import matplotlib.pyplot as plt\n",
    "import json"
   ]
  },
  {
   "cell_type": "code",
   "execution_count": 139,
   "metadata": {
    "collapsed": false,
    "deletable": true,
    "editable": true
   },
   "outputs": [],
   "source": [
    "data = json.load(open(\"tmp.txt\",\"r\"))"
   ]
  },
  {
   "cell_type": "code",
   "execution_count": 140,
   "metadata": {
    "collapsed": false,
    "deletable": true,
    "editable": true
   },
   "outputs": [
    {
     "data": {
      "text/plain": [
       "0.03140500000000008"
      ]
     },
     "execution_count": 140,
     "metadata": {},
     "output_type": "execute_result"
    }
   ],
   "source": [
    "dijkstra = data['dijkstra']\n",
    "dijk_total = sum(dijkstra)\n",
    "dijk_total"
   ]
  },
  {
   "cell_type": "code",
   "execution_count": 141,
   "metadata": {
    "collapsed": false,
    "deletable": true,
    "editable": true
   },
   "outputs": [
    {
     "data": {
      "text/plain": [
       "0.04409899999999999"
      ]
     },
     "execution_count": 141,
     "metadata": {},
     "output_type": "execute_result"
    }
   ],
   "source": [
    "setcov = data['set cover check time']\n",
    "setcov_tot = sum(setcov)\n",
    "setcov_tot"
   ]
  },
  {
   "cell_type": "code",
   "execution_count": 142,
   "metadata": {
    "collapsed": false,
    "deletable": true,
    "editable": true
   },
   "outputs": [
    {
     "data": {
      "text/plain": [
       "0.10503199999999999"
      ]
     },
     "execution_count": 142,
     "metadata": {},
     "output_type": "execute_result"
    }
   ],
   "source": [
    "inc_cap = data['increase capacity time']\n",
    "inc_cap_tot = sum(inc_cap)\n",
    "inc_cap_tot"
   ]
  },
  {
   "cell_type": "code",
   "execution_count": 143,
   "metadata": {
    "collapsed": false,
    "deletable": true,
    "editable": true
   },
   "outputs": [
    {
     "data": {
      "text/plain": [
       "0.0634420000000001"
      ]
     },
     "execution_count": 143,
     "metadata": {},
     "output_type": "execute_result"
    }
   ],
   "source": [
    "fae = data['find and enlarge']\n",
    "fae_tot = sum(fae)\n",
    "fae_tot"
   ]
  },
  {
   "cell_type": "code",
   "execution_count": 144,
   "metadata": {
    "collapsed": false,
    "deletable": true,
    "editable": true
   },
   "outputs": [
    {
     "data": {
      "text/plain": [
       "0.016552000000000015"
      ]
     },
     "execution_count": 144,
     "metadata": {},
     "output_type": "execute_result"
    }
   ],
   "source": [
    "mne = data['make new edge']\n",
    "mne_tot = sum(mne)\n",
    "mne_tot"
   ]
  },
  {
   "cell_type": "code",
   "execution_count": 145,
   "metadata": {
    "collapsed": true
   },
   "outputs": [],
   "source": [
    "aug_tot = sum(data['augment flow'])"
   ]
  },
  {
   "cell_type": "code",
   "execution_count": 146,
   "metadata": {
    "collapsed": false,
    "deletable": true,
    "editable": true
   },
   "outputs": [
    {
     "data": {
      "text/plain": [
       "[u'connectivity check time',\n",
       " u'dijkstra',\n",
       " u'find and enlarge',\n",
       " u'iteration init',\n",
       " u'fcla initialization',\n",
       " u'greedy set cover time',\n",
       " u'result final calculation time',\n",
       " u'bipartite graph size',\n",
       " u'objective',\n",
       " u'number of facilities',\n",
       " u'set cover check time',\n",
       " u'Created',\n",
       " u'capacity of facilities',\n",
       " u'prematching time',\n",
       " u'facilities left after termination',\n",
       " u'reading file',\n",
       " u'increase capacity time',\n",
       " u'augment flow',\n",
       " u'make new edge',\n",
       " u'total time',\n",
       " u'lack facility allocation time',\n",
       " u'number of iterations',\n",
       " u'runtime',\n",
       " u'update potentials',\n",
       " u'lambda']"
      ]
     },
     "execution_count": 146,
     "metadata": {},
     "output_type": "execute_result"
    }
   ],
   "source": [
    "list(data.keys())"
   ]
  },
  {
   "cell_type": "raw",
   "metadata": {},
   "source": [
    "- Total time (runtime)\n",
    "- connectivity check\n",
    "- result calculation time\n",
    "\n",
    "Total time:\n",
    "- prematching\n",
    "- find set cover\n",
    "-- initialization\n",
    "-- greedy set cover\n",
    "- increase capacities\n",
    "- left facilities elimination\n",
    "\n",
    "prematching + increase set cover (all matchings)\n",
    "- init iteration (not in logger)\n",
    "- find and enlarge\n",
    "- augment flow\n",
    "- increase capacities"
   ]
  },
  {
   "cell_type": "code",
   "execution_count": 147,
   "metadata": {
    "collapsed": false,
    "deletable": true,
    "editable": true
   },
   "outputs": [],
   "source": [
    "# for set cover\n",
    "plotdata = {'Total WMA time':data['runtime'],\n",
    "            'Total execution time':data['total time'],\n",
    "            \"Reading file\":data['reading file'],\n",
    "            \"Initialization\":data['fcla initialization'],\n",
    "            'lack facility allocation time': data['lack facility allocation time'],\n",
    "            'Set Cover time': setcov_tot,\n",
    "            'Matching': inc_cap_tot + data['prematching time'],\n",
    "            'Other': data['runtime'] - data['lack facility allocation time'] - \n",
    "            setcov_tot - inc_cap_tot + data['prematching time']}\n",
    "df = pd.DataFrame(plotdata,index=range(1))"
   ]
  },
  {
   "cell_type": "code",
   "execution_count": 148,
   "metadata": {
    "collapsed": false,
    "deletable": true,
    "editable": true
   },
   "outputs": [],
   "source": [
    "df = df.T\n",
    "df.reset_index(level=0, inplace=True)\n",
    "df = df.rename(columns={0:\"time\"})"
   ]
  },
  {
   "cell_type": "code",
   "execution_count": 149,
   "metadata": {
    "collapsed": false,
    "deletable": true,
    "editable": true
   },
   "outputs": [
    {
     "data": {
      "text/plain": [
       "<matplotlib.text.Text at 0x11abddc50>"
      ]
     },
     "execution_count": 149,
     "metadata": {},
     "output_type": "execute_result"
    },
    {
     "data": {
      "image/png": "[encoded data removed]",
      "text/plain": [
       "<matplotlib.figure.Figure at 0x11a636410>"
      ]
     },
     "metadata": {},
     "output_type": "display_data"
    }
   ],
   "source": [
    "f, ax = plt.subplots(figsize=(10, 5))\n",
    "sb.barplot(x=\"time\", y=\"index\",data=df)\n",
    "plt.title(\"WMA Profiling\")"
   ]
  },
  {
   "cell_type": "code",
   "execution_count": 150,
   "metadata": {
    "collapsed": false
   },
   "outputs": [
    {
     "data": {
      "text/plain": [
       "<matplotlib.text.Text at 0x11ade4290>"
      ]
     },
     "execution_count": 150,
     "metadata": {},
     "output_type": "execute_result"
    },
    {
     "data": {
      "image/png": "[encoded data removed]",
      "text/plain": [
       "<matplotlib.figure.Figure at 0x11ac13b90>"
      ]
     },
     "metadata": {},
     "output_type": "display_data"
    }
   ],
   "source": [
    "# for matching\n",
    "plotdata = {'Total Matching':inc_cap_tot + data['prematching time'],\n",
    "            'Dijkstra': dijk_total,\n",
    "            'Augment flow': aug_tot,\n",
    "            'exploring and making new edge': mne_tot,\n",
    "            'update potentials': sum(data['update potentials']),\n",
    "            'Initialization of iteration': sum(data['iteration init']),\n",
    "            'Other': inc_cap_tot + data['prematching time'] - sum(data['iteration init']) \n",
    "            - dijk_total - aug_tot - mne_tot - sum(data['update potentials'])}\n",
    "df = pd.DataFrame(plotdata,index=range(1))\n",
    "df = df.T\n",
    "df.reset_index(level=0, inplace=True)\n",
    "df = df.rename(columns={0:\"time\"})\n",
    "f, ax = plt.subplots(figsize=(10, 7))\n",
    "sb.barplot(x=\"time\", y=\"index\",data=df)\n",
    "plt.title(\"WMA Profiling\")"
   ]
  },
  {
   "cell_type": "code",
   "execution_count": 151,
   "metadata": {
    "collapsed": false,
    "deletable": true,
    "editable": true
   },
   "outputs": [
    {
     "data": {
      "text/plain": [
       "<matplotlib.legend.Legend at 0x11b0475d0>"
      ]
     },
     "execution_count": 151,
     "metadata": {},
     "output_type": "execute_result"
    },
    {
     "data": {
      "image/png": "[encoded data removed]",
      "text/plain": [
       "<matplotlib.figure.Figure at 0x11ac21c10>"
      ]
     },
     "metadata": {},
     "output_type": "display_data"
    }
   ],
   "source": [
    "f, ax = plt.subplots(figsize=(10, 10))\n",
    "plt.pie(df['time']*100,labels=df['index'])\n",
    "plt.legend()"
   ]
  },
  {
   "cell_type": "code",
   "execution_count": null,
   "metadata": {
    "collapsed": true
   },
   "outputs": [],
   "source": []
  }
 ],
 "metadata": {
  "kernelspec": {
   "display_name": "Python 2",
   "language": "python",
   "name": "python2"
  }
 },
 "nbformat": 4,
 "nbformat_minor": 2
}
