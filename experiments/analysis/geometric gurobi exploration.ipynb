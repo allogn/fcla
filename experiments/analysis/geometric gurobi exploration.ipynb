{
 "cells": [
  {
   "cell_type": "code",
   "execution_count": 3,
   "metadata": {
    "collapsed": false,
    "deletable": true,
    "editable": true
   },
   "outputs": [],
   "source": [
    "%matplotlib inline\n",
    "import matplotlib.pyplot as plt\n",
    "import seaborn as sbn\n",
    "import json\n",
    "import os\n",
    "import sys\n",
    "import pandas as pd\n",
    "import pickle\n",
    "\n",
    "root_path = os.environ['FCLA_ROOT']\n",
    "data_path = os.environ['DATA_PATH']\n",
    "sys.path.append(os.path.join(root_path,'scripts'))\n",
    "\n",
    "from mergeResults import *"
   ]
  },
  {
   "cell_type": "markdown",
   "metadata": {},
   "source": [
    "### Definitions\n",
    "\n",
    "- n - size of network\n",
    "- m - number of customers\n",
    "- k - nubmer of facilities\n",
    "- c - capacity of facilities\n",
    "- c_min - minimum capacity of facilities requied for feasible solution\n",
    "- alpha - parameter proportional to density of a graph"
   ]
  },
  {
   "cell_type": "markdown",
   "metadata": {},
   "source": [
    "## Check Gurobi scalability on fixed relation between customers and graph size\n",
    "\n",
    "Other parameters are\n",
    "\n",
    "- relation between customers and facilities (constant)\n",
    "- relation between capacity of facilities and minimum capacity of facilities that makes a problem feasible, i.e. enouhg to serve all customers"
   ]
  },
  {
   "cell_type": "code",
   "execution_count": 28,
   "metadata": {
    "collapsed": false,
    "deletable": true,
    "editable": true
   },
   "outputs": [],
   "source": [
    "results = load_results(os.path.join(data_path, \"geometric\", 'n_m-n0.05c-minc2m-k10', \"solutions\", \"gurobi\"), \n",
    "                       os.path.join(data_path,'geometric','n_m-n0.05c-minc2m-k10'))\n",
    "results15 = load_results(os.path.join(data_path, \"geometric\", 'n_m-n0.15c-minc2m-k10', \"solutions\", \"gurobi\"), \n",
    "                       os.path.join(data_path,'geometric','n_m-n0.15c-minc2m-k10'))\n",
    "results25 = load_results(os.path.join(data_path, \"geometric\", 'n_m-n0.25c-minc2m-k10', \"solutions\", \"gurobi\"), \n",
    "                       os.path.join(data_path,'geometric','n_m-n0.25c-minc2m-k10'))"
   ]
  },
  {
   "cell_type": "code",
   "execution_count": 58,
   "metadata": {
    "collapsed": false,
    "deletable": true,
    "editable": true,
    "scrolled": true
   },
   "outputs": [
    {
     "data": {
      "text/html": [
       "<div>\n",
       "<table border=\"1\" class=\"dataframe\">\n",
       "  <thead>\n",
       "    <tr style=\"text-align: right;\">\n",
       "      <th></th>\n",
       "      <th>id</th>\n",
       "      <th>vcount</th>\n",
       "      <th>objective</th>\n",
       "      <th>source_num</th>\n",
       "      <th>number of facilities</th>\n",
       "      <th>runtime</th>\n",
       "    </tr>\n",
       "  </thead>\n",
       "  <tbody>\n",
       "    <tr>\n",
       "      <th>0</th>\n",
       "      <td>1488898666208598371</td>\n",
       "      <td>4000.0</td>\n",
       "      <td>13870.0</td>\n",
       "      <td>200.0</td>\n",
       "      <td>20.0</td>\n",
       "      <td>122.848531</td>\n",
       "    </tr>\n",
       "    <tr>\n",
       "      <th>1</th>\n",
       "      <td>1488898666123587441</td>\n",
       "      <td>1000.0</td>\n",
       "      <td>7848.0</td>\n",
       "      <td>50.0</td>\n",
       "      <td>5.0</td>\n",
       "      <td>5.377159</td>\n",
       "    </tr>\n",
       "    <tr>\n",
       "      <th>2</th>\n",
       "      <td>1488898666256533879</td>\n",
       "      <td>5000.0</td>\n",
       "      <td>15907.0</td>\n",
       "      <td>250.0</td>\n",
       "      <td>25.0</td>\n",
       "      <td>235.690763</td>\n",
       "    </tr>\n",
       "    <tr>\n",
       "      <th>3</th>\n",
       "      <td>1488898666142058455</td>\n",
       "      <td>2000.0</td>\n",
       "      <td>10705.0</td>\n",
       "      <td>100.0</td>\n",
       "      <td>10.0</td>\n",
       "      <td>26.826454</td>\n",
       "    </tr>\n",
       "  </tbody>\n",
       "</table>\n",
       "</div>"
      ],
      "text/plain": [
       "                    id  vcount  objective  source_num  number of facilities  \\\n",
       "0  1488898666208598371  4000.0    13870.0       200.0                  20.0   \n",
       "1  1488898666123587441  1000.0     7848.0        50.0                   5.0   \n",
       "2  1488898666256533879  5000.0    15907.0       250.0                  25.0   \n",
       "3  1488898666142058455  2000.0    10705.0       100.0                  10.0   \n",
       "\n",
       "      runtime  \n",
       "0  122.848531  \n",
       "1    5.377159  \n",
       "2  235.690763  \n",
       "3   26.826454  "
      ]
     },
     "execution_count": 58,
     "metadata": {},
     "output_type": "execute_result"
    }
   ],
   "source": [
    "results[['id','vcount','objective','source_num','number of facilities',\"runtime\"]]"
   ]
  },
  {
   "cell_type": "code",
   "execution_count": 91,
   "metadata": {
    "collapsed": false
   },
   "outputs": [
    {
     "data": {
      "text/html": [
       "<div>\n",
       "<table border=\"1\" class=\"dataframe\">\n",
       "  <thead>\n",
       "    <tr style=\"text-align: right;\">\n",
       "      <th></th>\n",
       "      <th>id</th>\n",
       "      <th>vcount</th>\n",
       "      <th>objective</th>\n",
       "      <th>source_num</th>\n",
       "      <th>number of facilities</th>\n",
       "      <th>runtime</th>\n",
       "      <th>error</th>\n",
       "    </tr>\n",
       "  </thead>\n",
       "  <tbody>\n",
       "    <tr>\n",
       "      <th>1</th>\n",
       "      <td>1489255008874073958</td>\n",
       "      <td>8000.0</td>\n",
       "      <td>32927.0</td>\n",
       "      <td>1200.0</td>\n",
       "      <td>120.0</td>\n",
       "      <td>2317.462815</td>\n",
       "      <td>NaN</td>\n",
       "    </tr>\n",
       "    <tr>\n",
       "      <th>2</th>\n",
       "      <td>1489255008795303478</td>\n",
       "      <td>7000.0</td>\n",
       "      <td>31545.0</td>\n",
       "      <td>1050.0</td>\n",
       "      <td>105.0</td>\n",
       "      <td>1300.260643</td>\n",
       "      <td>NaN</td>\n",
       "    </tr>\n",
       "    <tr>\n",
       "      <th>3</th>\n",
       "      <td>1489255008669896112</td>\n",
       "      <td>5000.0</td>\n",
       "      <td>27607.0</td>\n",
       "      <td>750.0</td>\n",
       "      <td>75.0</td>\n",
       "      <td>595.029190</td>\n",
       "      <td>NaN</td>\n",
       "    </tr>\n",
       "    <tr>\n",
       "      <th>4</th>\n",
       "      <td>1489255008555280792</td>\n",
       "      <td>2000.0</td>\n",
       "      <td>17540.0</td>\n",
       "      <td>300.0</td>\n",
       "      <td>30.0</td>\n",
       "      <td>68.069378</td>\n",
       "      <td>NaN</td>\n",
       "    </tr>\n",
       "    <tr>\n",
       "      <th>5</th>\n",
       "      <td>1489255008537228131</td>\n",
       "      <td>1000.0</td>\n",
       "      <td>12873.0</td>\n",
       "      <td>150.0</td>\n",
       "      <td>15.0</td>\n",
       "      <td>17.485865</td>\n",
       "      <td>NaN</td>\n",
       "    </tr>\n",
       "    <tr>\n",
       "      <th>6</th>\n",
       "      <td>1489255008726915516</td>\n",
       "      <td>6000.0</td>\n",
       "      <td>30062.0</td>\n",
       "      <td>900.0</td>\n",
       "      <td>90.0</td>\n",
       "      <td>1323.355255</td>\n",
       "      <td>NaN</td>\n",
       "    </tr>\n",
       "    <tr>\n",
       "      <th>7</th>\n",
       "      <td>1489255008584462505</td>\n",
       "      <td>3000.0</td>\n",
       "      <td>21730.0</td>\n",
       "      <td>450.0</td>\n",
       "      <td>45.0</td>\n",
       "      <td>176.469974</td>\n",
       "      <td>NaN</td>\n",
       "    </tr>\n",
       "    <tr>\n",
       "      <th>8</th>\n",
       "      <td>1489255008962649591</td>\n",
       "      <td>9000.0</td>\n",
       "      <td>34981.0</td>\n",
       "      <td>1350.0</td>\n",
       "      <td>135.0</td>\n",
       "      <td>3546.999763</td>\n",
       "      <td>NaN</td>\n",
       "    </tr>\n",
       "    <tr>\n",
       "      <th>9</th>\n",
       "      <td>148925500961960871</td>\n",
       "      <td>10000.0</td>\n",
       "      <td>37237.0</td>\n",
       "      <td>1500.0</td>\n",
       "      <td>150.0</td>\n",
       "      <td>5601.978475</td>\n",
       "      <td>NaN</td>\n",
       "    </tr>\n",
       "  </tbody>\n",
       "</table>\n",
       "</div>"
      ],
      "text/plain": [
       "                    id   vcount  objective  source_num  number of facilities  \\\n",
       "1  1489255008874073958   8000.0    32927.0      1200.0                 120.0   \n",
       "2  1489255008795303478   7000.0    31545.0      1050.0                 105.0   \n",
       "3  1489255008669896112   5000.0    27607.0       750.0                  75.0   \n",
       "4  1489255008555280792   2000.0    17540.0       300.0                  30.0   \n",
       "5  1489255008537228131   1000.0    12873.0       150.0                  15.0   \n",
       "6  1489255008726915516   6000.0    30062.0       900.0                  90.0   \n",
       "7  1489255008584462505   3000.0    21730.0       450.0                  45.0   \n",
       "8  1489255008962649591   9000.0    34981.0      1350.0                 135.0   \n",
       "9   148925500961960871  10000.0    37237.0      1500.0                 150.0   \n",
       "\n",
       "       runtime error  \n",
       "1  2317.462815   NaN  \n",
       "2  1300.260643   NaN  \n",
       "3   595.029190   NaN  \n",
       "4    68.069378   NaN  \n",
       "5    17.485865   NaN  \n",
       "6  1323.355255   NaN  \n",
       "7   176.469974   NaN  \n",
       "8  3546.999763   NaN  \n",
       "9  5601.978475   NaN  "
      ]
     },
     "execution_count": 91,
     "metadata": {},
     "output_type": "execute_result"
    }
   ],
   "source": [
    "results15[['id','vcount','objective','source_num','number of facilities',\"runtime\",'error']]"
   ]
  },
  {
   "cell_type": "code",
   "execution_count": 95,
   "metadata": {
    "collapsed": false
   },
   "outputs": [
    {
     "data": {
      "text/plain": [
       "<matplotlib.legend.Legend at 0x7f3eaf6c0b38>"
      ]
     },
     "execution_count": 95,
     "metadata": {},
     "output_type": "execute_result"
    },
    {
     "data": {
      "image/png": "[encoded data removed]",
      "text/plain": [
       "<matplotlib.figure.Figure at 0x7f3eaf9704a8>"
      ]
     },
     "metadata": {},
     "output_type": "display_data"
    }
   ],
   "source": [
    "fig, ax = plt.subplots(figsize=(5, 4), dpi=300)\n",
    "plt.gca().set_yscale(\"log\", nonposx='clip')\n",
    "plt.gca().set_xscale(\"log\", nonposx='clip')\n",
    "results = results[results['error'].isnull()]\n",
    "results15 = results15[results15['error'].isnull()]\n",
    "results = results.sort_values(by='vcount')\n",
    "results15 = results15.sort_values(by='vcount')\n",
    "results25 = results25.sort_values(by='vcount')\n",
    "plt.plot(results['vcount'],results['runtime'],label=\"m/n=0.05\")\n",
    "plt.plot(results15['vcount'],results15['runtime'],label=\"m/n=0.15\")\n",
    "plt.plot(results25['vcount'],results25['runtime'],label=\"m/n=0.25\")\n",
    "plt.xlabel(\"Size of a network\")\n",
    "plt.ylabel(\"runtime, sec\")\n",
    "plt.title(\"Gurobi runtime for m/k=10 and c/cmin=2\")\n",
    "plt.legend(loc=4)"
   ]
  },
  {
   "cell_type": "code",
   "execution_count": 68,
   "metadata": {
    "collapsed": false
   },
   "outputs": [
    {
     "data": {
      "text/plain": [
       "<matplotlib.axes._subplots.AxesSubplot at 0x7f3eb0087198>"
      ]
     },
     "execution_count": 68,
     "metadata": {},
     "output_type": "execute_result"
    },
    {
     "data": {
      "image/png": "[encoded data removed]",
      "text/plain": [
       "<matplotlib.figure.Figure at 0x7f3eb001f2b0>"
      ]
     },
     "metadata": {},
     "output_type": "display_data"
    }
   ],
   "source": [
    "# check m/n relation\n",
    "fig, ax = plt.subplots(figsize=(4, 3), dpi=300)\n",
    "results['m/n'] = results['source_num']/results['vcount']\n",
    "results['m/n'].hist(bins=100)\n",
    "results15['m/n'] = results15['source_num']/results15['vcount']\n",
    "results15['m/n'].hist(bins=100)"
   ]
  },
  {
   "cell_type": "markdown",
   "metadata": {
    "collapsed": true
   },
   "source": [
    "Missing points exist due to sparcity, graph became not-connected"
   ]
  },
  {
   "cell_type": "code",
   "execution_count": 6,
   "metadata": {
    "collapsed": false
   },
   "outputs": [],
   "source": [
    "results15_fcla = load_results(os.path.join(data_path, \"geometric\", 'n_m-n0.15c-minc2m-k10', \"solutions\", \"fcla\"), \n",
    "                           os.path.join(data_path,'geometric','n_m-n0.15c-minc2m-k10'))"
   ]
  },
  {
   "cell_type": "code",
   "execution_count": 31,
   "metadata": {
    "collapsed": false
   },
   "outputs": [
    {
     "data": {
      "text/plain": [
       "<matplotlib.legend.Legend at 0x7f00ceb19358>"
      ]
     },
     "execution_count": 31,
     "metadata": {},
     "output_type": "execute_result"
    },
    {
     "data": {
      "image/png": "[encoded data removed]",
      "text/plain": [
       "<matplotlib.figure.Figure at 0x7f00ceb21048>"
      ]
     },
     "metadata": {},
     "output_type": "display_data"
    }
   ],
   "source": [
    "fig, ax = plt.subplots(figsize=(5, 4), dpi=300)\n",
    "plt.gca().set_yscale(\"log\", nonposx='clip')\n",
    "plt.gca().set_xscale(\"log\", nonposx='clip')\n",
    "results15 = results15[results15['error'].isnull()]\n",
    "results15_fcla = results15_fcla.sort_values(by='vcount')\n",
    "results15 = results15.sort_values(by='vcount')\n",
    "plt.plot(results15_fcla['vcount'],results15_fcla['runtime'],label=\"WMA\")\n",
    "plt.plot(results15['vcount'],results15['runtime'],label=\"Gurobi\")\n",
    "plt.xlabel(\"Size of a network\")\n",
    "plt.ylabel(\"runtime, sec\")\n",
    "plt.title(\"Runtime for m/k=10 and c/cmin=2, c=20\")\n",
    "plt.legend(loc=4)"
   ]
  },
  {
   "cell_type": "code",
   "execution_count": 30,
   "metadata": {
    "collapsed": false
   },
   "outputs": [
    {
     "data": {
      "text/plain": [
       "<matplotlib.legend.Legend at 0x7f00cec8ea58>"
      ]
     },
     "execution_count": 30,
     "metadata": {},
     "output_type": "execute_result"
    },
    {
     "data": {
      "image/png": "[encoded data removed]",
      "text/plain": [
       "<matplotlib.figure.Figure at 0x7f00cefe2ac8>"
      ]
     },
     "metadata": {},
     "output_type": "display_data"
    }
   ],
   "source": [
    "fig, ax = plt.subplots(figsize=(5, 4), dpi=300)\n",
    "plt.gca().set_yscale(\"log\", nonposx='clip')\n",
    "plt.gca().set_xscale(\"log\", nonposx='clip')\n",
    "results15 = results15[results15['error'].isnull()]\n",
    "results15_fcla = results15_fcla.sort_values(by='vcount')\n",
    "results15 = results15.sort_values(by='vcount')\n",
    "plt.plot(results15_fcla['vcount'],results15_fcla['objective'],label=\"WMA, m/n=0.15\")\n",
    "plt.plot(results15['vcount'],results15['objective'],label=\"Gurobi, m/n=0.15\")\n",
    "plt.xlabel(\"Size of a network\")\n",
    "plt.ylabel(\"Objective\")\n",
    "plt.title(\"Objective for m/k=10 and c/cmin=2, c=20\")\n",
    "plt.legend(loc=4)"
   ]
  },
  {
   "cell_type": "markdown",
   "metadata": {},
   "source": [
    "## Gurobi scalability on different graph size"
   ]
  },
  {
   "cell_type": "code",
   "execution_count": 36,
   "metadata": {
    "collapsed": true
   },
   "outputs": [],
   "source": [
    "results = load_results(os.path.join(data_path, \"geometric\", 'n_m100k20c10a2', \"solutions\", \"gurobi\"), \n",
    "                       os.path.join(data_path,'geometric','n_m100k20c10a2'))"
   ]
  },
  {
   "cell_type": "code",
   "execution_count": 37,
   "metadata": {
    "collapsed": false
   },
   "outputs": [
    {
     "data": {
      "text/html": [
       "<div>\n",
       "<table border=\"1\" class=\"dataframe\">\n",
       "  <thead>\n",
       "    <tr style=\"text-align: right;\">\n",
       "      <th></th>\n",
       "      <th>facility_capacity</th>\n",
       "      <th>id</th>\n",
       "      <th>number of facilities</th>\n",
       "      <th>objective</th>\n",
       "      <th>runtime</th>\n",
       "      <th>error</th>\n",
       "      <th>avg_clustering</th>\n",
       "      <th>avg_degree</th>\n",
       "      <th>avg_dist</th>\n",
       "      <th>ecount</th>\n",
       "      <th>max_degree</th>\n",
       "      <th>max_dist</th>\n",
       "      <th>min_degree</th>\n",
       "      <th>min_dist</th>\n",
       "      <th>source_avg_clust</th>\n",
       "      <th>source_avg_degree</th>\n",
       "      <th>source_num</th>\n",
       "      <th>std_degree</th>\n",
       "      <th>std_dist</th>\n",
       "      <th>vcount</th>\n",
       "    </tr>\n",
       "  </thead>\n",
       "  <tbody>\n",
       "    <tr>\n",
       "      <th>0</th>\n",
       "      <td>10.0</td>\n",
       "      <td>1488890931261352838</td>\n",
       "      <td>20.0</td>\n",
       "      <td>6013.0</td>\n",
       "      <td>1219.372074</td>\n",
       "      <td>NaN</td>\n",
       "      <td>0.590441</td>\n",
       "      <td>12.375732</td>\n",
       "      <td>5461.282453</td>\n",
       "      <td>101382.0</td>\n",
       "      <td>27.0</td>\n",
       "      <td>16383.0</td>\n",
       "      <td>1.0</td>\n",
       "      <td>0.0</td>\n",
       "      <td>0.606389</td>\n",
       "      <td>12.09</td>\n",
       "      <td>100.0</td>\n",
       "      <td>12.844299</td>\n",
       "      <td>2.924683e+07</td>\n",
       "      <td>16384.0</td>\n",
       "    </tr>\n",
       "    <tr>\n",
       "      <th>1</th>\n",
       "      <td>10.0</td>\n",
       "      <td>1488890930975212314</td>\n",
       "      <td>20.0</td>\n",
       "      <td>6150.0</td>\n",
       "      <td>1.462794</td>\n",
       "      <td>NaN</td>\n",
       "      <td>0.606732</td>\n",
       "      <td>10.882812</td>\n",
       "      <td>109.532903</td>\n",
       "      <td>1393.0</td>\n",
       "      <td>19.0</td>\n",
       "      <td>255.0</td>\n",
       "      <td>3.0</td>\n",
       "      <td>0.0</td>\n",
       "      <td>0.601430</td>\n",
       "      <td>11.14</td>\n",
       "      <td>100.0</td>\n",
       "      <td>12.251892</td>\n",
       "      <td>3.864110e+03</td>\n",
       "      <td>256.0</td>\n",
       "    </tr>\n",
       "    <tr>\n",
       "      <th>2</th>\n",
       "      <td>10.0</td>\n",
       "      <td>1488890931543085327</td>\n",
       "      <td>20.0</td>\n",
       "      <td>6045.0</td>\n",
       "      <td>9007.098881</td>\n",
       "      <td>NaN</td>\n",
       "      <td>0.589431</td>\n",
       "      <td>12.426086</td>\n",
       "      <td>10892.058898</td>\n",
       "      <td>203589.0</td>\n",
       "      <td>26.0</td>\n",
       "      <td>32767.0</td>\n",
       "      <td>1.0</td>\n",
       "      <td>0.0</td>\n",
       "      <td>0.575379</td>\n",
       "      <td>12.43</td>\n",
       "      <td>100.0</td>\n",
       "      <td>12.454070</td>\n",
       "      <td>1.178947e+08</td>\n",
       "      <td>32768.0</td>\n",
       "    </tr>\n",
       "    <tr>\n",
       "      <th>3</th>\n",
       "      <td>10.0</td>\n",
       "      <td>1488890930983282677</td>\n",
       "      <td>20.0</td>\n",
       "      <td>6015.0</td>\n",
       "      <td>3.842013</td>\n",
       "      <td>NaN</td>\n",
       "      <td>0.613654</td>\n",
       "      <td>11.363281</td>\n",
       "      <td>188.673771</td>\n",
       "      <td>2909.0</td>\n",
       "      <td>21.0</td>\n",
       "      <td>511.0</td>\n",
       "      <td>2.0</td>\n",
       "      <td>0.0</td>\n",
       "      <td>0.620407</td>\n",
       "      <td>11.42</td>\n",
       "      <td>100.0</td>\n",
       "      <td>13.770370</td>\n",
       "      <td>2.221152e+04</td>\n",
       "      <td>512.0</td>\n",
       "    </tr>\n",
       "    <tr>\n",
       "      <th>4</th>\n",
       "      <td>10.0</td>\n",
       "      <td>1488890930996063996</td>\n",
       "      <td>20.0</td>\n",
       "      <td>6408.0</td>\n",
       "      <td>11.400889</td>\n",
       "      <td>NaN</td>\n",
       "      <td>0.606849</td>\n",
       "      <td>11.826172</td>\n",
       "      <td>349.030553</td>\n",
       "      <td>6055.0</td>\n",
       "      <td>22.0</td>\n",
       "      <td>1023.0</td>\n",
       "      <td>1.0</td>\n",
       "      <td>0.0</td>\n",
       "      <td>0.603001</td>\n",
       "      <td>12.00</td>\n",
       "      <td>100.0</td>\n",
       "      <td>14.549862</td>\n",
       "      <td>1.009219e+05</td>\n",
       "      <td>1024.0</td>\n",
       "    </tr>\n",
       "    <tr>\n",
       "      <th>5</th>\n",
       "      <td>10.0</td>\n",
       "      <td>148889093333863909</td>\n",
       "      <td>20.0</td>\n",
       "      <td>NaN</td>\n",
       "      <td>NaN</td>\n",
       "      <td>graph is not connected</td>\n",
       "      <td>0.587441</td>\n",
       "      <td>12.493500</td>\n",
       "      <td>43727.686842</td>\n",
       "      <td>818774.0</td>\n",
       "      <td>29.0</td>\n",
       "      <td>131071.0</td>\n",
       "      <td>0.0</td>\n",
       "      <td>0.0</td>\n",
       "      <td>0.587266</td>\n",
       "      <td>12.27</td>\n",
       "      <td>100.0</td>\n",
       "      <td>12.601719</td>\n",
       "      <td>1.901689e+09</td>\n",
       "      <td>131072.0</td>\n",
       "    </tr>\n",
       "    <tr>\n",
       "      <th>6</th>\n",
       "      <td>10.0</td>\n",
       "      <td>1488890931118374650</td>\n",
       "      <td>20.0</td>\n",
       "      <td>NaN</td>\n",
       "      <td>NaN</td>\n",
       "      <td>graph is not connected</td>\n",
       "      <td>0.594649</td>\n",
       "      <td>12.364990</td>\n",
       "      <td>2783.516622</td>\n",
       "      <td>50647.0</td>\n",
       "      <td>27.0</td>\n",
       "      <td>8191.0</td>\n",
       "      <td>1.0</td>\n",
       "      <td>0.0</td>\n",
       "      <td>0.619335</td>\n",
       "      <td>11.99</td>\n",
       "      <td>100.0</td>\n",
       "      <td>13.417319</td>\n",
       "      <td>7.428721e+06</td>\n",
       "      <td>8192.0</td>\n",
       "    </tr>\n",
       "    <tr>\n",
       "      <th>7</th>\n",
       "      <td>10.0</td>\n",
       "      <td>148889093148598999</td>\n",
       "      <td>20.0</td>\n",
       "      <td>6667.0</td>\n",
       "      <td>86.147343</td>\n",
       "      <td>NaN</td>\n",
       "      <td>0.596662</td>\n",
       "      <td>12.270996</td>\n",
       "      <td>1385.825939</td>\n",
       "      <td>25131.0</td>\n",
       "      <td>25.0</td>\n",
       "      <td>4095.0</td>\n",
       "      <td>1.0</td>\n",
       "      <td>0.0</td>\n",
       "      <td>0.604718</td>\n",
       "      <td>12.07</td>\n",
       "      <td>100.0</td>\n",
       "      <td>13.209276</td>\n",
       "      <td>1.829871e+06</td>\n",
       "      <td>4096.0</td>\n",
       "    </tr>\n",
       "    <tr>\n",
       "      <th>8</th>\n",
       "      <td>10.0</td>\n",
       "      <td>148889093114872507</td>\n",
       "      <td>20.0</td>\n",
       "      <td>NaN</td>\n",
       "      <td>NaN</td>\n",
       "      <td>graph is not connected</td>\n",
       "      <td>0.602172</td>\n",
       "      <td>12.067383</td>\n",
       "      <td>693.771358</td>\n",
       "      <td>12357.0</td>\n",
       "      <td>24.0</td>\n",
       "      <td>2047.0</td>\n",
       "      <td>0.0</td>\n",
       "      <td>0.0</td>\n",
       "      <td>0.605025</td>\n",
       "      <td>11.67</td>\n",
       "      <td>100.0</td>\n",
       "      <td>11.698585</td>\n",
       "      <td>4.482006e+05</td>\n",
       "      <td>2048.0</td>\n",
       "    </tr>\n",
       "  </tbody>\n",
       "</table>\n",
       "</div>"
      ],
      "text/plain": [
       "   facility_capacity                   id  number of facilities  objective  \\\n",
       "0               10.0  1488890931261352838                  20.0     6013.0   \n",
       "1               10.0  1488890930975212314                  20.0     6150.0   \n",
       "2               10.0  1488890931543085327                  20.0     6045.0   \n",
       "3               10.0  1488890930983282677                  20.0     6015.0   \n",
       "4               10.0  1488890930996063996                  20.0     6408.0   \n",
       "5               10.0   148889093333863909                  20.0        NaN   \n",
       "6               10.0  1488890931118374650                  20.0        NaN   \n",
       "7               10.0   148889093148598999                  20.0     6667.0   \n",
       "8               10.0   148889093114872507                  20.0        NaN   \n",
       "\n",
       "       runtime                   error  avg_clustering  avg_degree  \\\n",
       "0  1219.372074                     NaN        0.590441   12.375732   \n",
       "1     1.462794                     NaN        0.606732   10.882812   \n",
       "2  9007.098881                     NaN        0.589431   12.426086   \n",
       "3     3.842013                     NaN        0.613654   11.363281   \n",
       "4    11.400889                     NaN        0.606849   11.826172   \n",
       "5          NaN  graph is not connected        0.587441   12.493500   \n",
       "6          NaN  graph is not connected        0.594649   12.364990   \n",
       "7    86.147343                     NaN        0.596662   12.270996   \n",
       "8          NaN  graph is not connected        0.602172   12.067383   \n",
       "\n",
       "       avg_dist    ecount  max_degree  max_dist  min_degree  min_dist  \\\n",
       "0   5461.282453  101382.0        27.0   16383.0         1.0       0.0   \n",
       "1    109.532903    1393.0        19.0     255.0         3.0       0.0   \n",
       "2  10892.058898  203589.0        26.0   32767.0         1.0       0.0   \n",
       "3    188.673771    2909.0        21.0     511.0         2.0       0.0   \n",
       "4    349.030553    6055.0        22.0    1023.0         1.0       0.0   \n",
       "5  43727.686842  818774.0        29.0  131071.0         0.0       0.0   \n",
       "6   2783.516622   50647.0        27.0    8191.0         1.0       0.0   \n",
       "7   1385.825939   25131.0        25.0    4095.0         1.0       0.0   \n",
       "8    693.771358   12357.0        24.0    2047.0         0.0       0.0   \n",
       "\n",
       "   source_avg_clust  source_avg_degree  source_num  std_degree      std_dist  \\\n",
       "0          0.606389              12.09       100.0   12.844299  2.924683e+07   \n",
       "1          0.601430              11.14       100.0   12.251892  3.864110e+03   \n",
       "2          0.575379              12.43       100.0   12.454070  1.178947e+08   \n",
       "3          0.620407              11.42       100.0   13.770370  2.221152e+04   \n",
       "4          0.603001              12.00       100.0   14.549862  1.009219e+05   \n",
       "5          0.587266              12.27       100.0   12.601719  1.901689e+09   \n",
       "6          0.619335              11.99       100.0   13.417319  7.428721e+06   \n",
       "7          0.604718              12.07       100.0   13.209276  1.829871e+06   \n",
       "8          0.605025              11.67       100.0   11.698585  4.482006e+05   \n",
       "\n",
       "     vcount  \n",
       "0   16384.0  \n",
       "1     256.0  \n",
       "2   32768.0  \n",
       "3     512.0  \n",
       "4    1024.0  \n",
       "5  131072.0  \n",
       "6    8192.0  \n",
       "7    4096.0  \n",
       "8    2048.0  "
      ]
     },
     "execution_count": 37,
     "metadata": {},
     "output_type": "execute_result"
    }
   ],
   "source": [
    "results"
   ]
  },
  {
   "cell_type": "code",
   "execution_count": 40,
   "metadata": {
    "collapsed": false
   },
   "outputs": [
    {
     "data": {
      "text/plain": [
       "<matplotlib.text.Text at 0x7f3eb0e72b00>"
      ]
     },
     "execution_count": 40,
     "metadata": {},
     "output_type": "execute_result"
    },
    {
     "data": {
      "image/png": "[encoded data removed]",
      "text/plain": [
       "<matplotlib.figure.Figure at 0x7f3eb09e14a8>"
      ]
     },
     "metadata": {},
     "output_type": "display_data"
    }
   ],
   "source": [
    "fig, ax = plt.subplots(figsize=(4, 3), dpi=300)\n",
    "plt.gca().set_yscale(\"log\", nonposx='clip')\n",
    "plt.gca().set_xscale(\"log\", nonposx='clip')\n",
    "results = results[results['runtime'].notnull()].sort_values(by='vcount')\n",
    "plt.plot(results['vcount'],results['runtime'],label=\"\")\n",
    "plt.xlabel(\"Size of a network\")\n",
    "plt.ylabel(\"runtime, sec\")\n",
    "plt.title(\"m=100, k=20, c=10, alpha=2\")"
   ]
  },
  {
   "cell_type": "markdown",
   "metadata": {},
   "source": [
    "Several graphs turned out to be not connected, but general overview is complete: 32K nodes are processed in 3.5 hours with 100 customers and 20 facilities."
   ]
  },
  {
   "cell_type": "markdown",
   "metadata": {},
   "source": [
    "## Gurobi scalability on different capacities of facilities\n",
    "\n",
    "For this experiment we vary capacities from 8 to 256, but it happened accasionally that we run also up to 1024.\n",
    "\n",
    "We have 512 customers and 16 facilities, so 32 customer per facility at least."
   ]
  },
  {
   "cell_type": "code",
   "execution_count": 31,
   "metadata": {
    "collapsed": true
   },
   "outputs": [],
   "source": [
    "results = load_results(os.path.join(data_path, \"geometric\", 'c_n4096m512a2k16', \"solutions\", \"gurobi\"), \n",
    "                       os.path.join(data_path,'geometric','c_n4096m512a2k16'))"
   ]
  },
  {
   "cell_type": "code",
   "execution_count": 34,
   "metadata": {
    "collapsed": false
   },
   "outputs": [
    {
     "data": {
      "text/plain": [
       "<matplotlib.text.Text at 0x7f3eb0b10be0>"
      ]
     },
     "execution_count": 34,
     "metadata": {},
     "output_type": "execute_result"
    },
    {
     "data": {
      "image/png": "[encoded data removed]",
      "text/plain": [
       "<matplotlib.figure.Figure at 0x7f3eb0ae2ef0>"
      ]
     },
     "metadata": {},
     "output_type": "display_data"
    }
   ],
   "source": [
    "fig, ax = plt.subplots(figsize=(4, 3), dpi=300)\n",
    "results = results.sort_values(by='facility_capacity')\n",
    "plt.plot(results['facility_capacity'],results['runtime'],label=\"\")\n",
    "plt.xlabel(\"Capacity of facilities\")\n",
    "plt.ylabel(\"runtime, sec\")\n",
    "plt.title(\"n=4096, m=512, k=16, alpha=2\")\n",
    "# plt.legend()"
   ]
  },
  {
   "cell_type": "code",
   "execution_count": 33,
   "metadata": {
    "collapsed": false
   },
   "outputs": [
    {
     "data": {
      "text/html": [
       "<div>\n",
       "<table border=\"1\" class=\"dataframe\">\n",
       "  <thead>\n",
       "    <tr style=\"text-align: right;\">\n",
       "      <th></th>\n",
       "      <th>facility_capacity</th>\n",
       "      <th>id</th>\n",
       "      <th>number of facilities</th>\n",
       "      <th>objective</th>\n",
       "      <th>runtime</th>\n",
       "      <th>avg_clustering</th>\n",
       "      <th>avg_degree</th>\n",
       "      <th>avg_dist</th>\n",
       "      <th>ecount</th>\n",
       "      <th>max_degree</th>\n",
       "      <th>...</th>\n",
       "      <th>network_diam</th>\n",
       "      <th>source_avg_clust</th>\n",
       "      <th>source_avg_degree</th>\n",
       "      <th>source_avg_dist</th>\n",
       "      <th>source_avg_eccentricity</th>\n",
       "      <th>source_num</th>\n",
       "      <th>source_std_dist</th>\n",
       "      <th>std_degree</th>\n",
       "      <th>std_dist</th>\n",
       "      <th>vcount</th>\n",
       "    </tr>\n",
       "  </thead>\n",
       "  <tbody>\n",
       "    <tr>\n",
       "      <th>0</th>\n",
       "      <td>128.0</td>\n",
       "      <td>1488895982754236676</td>\n",
       "      <td>16.0</td>\n",
       "      <td>46860.0</td>\n",
       "      <td>750.994267</td>\n",
       "      <td>0.595751</td>\n",
       "      <td>12.372559</td>\n",
       "      <td>1359.886604</td>\n",
       "      <td>25339.0</td>\n",
       "      <td>30.0</td>\n",
       "      <td>...</td>\n",
       "      <td>1415.0</td>\n",
       "      <td>0.599068</td>\n",
       "      <td>12.40625</td>\n",
       "      <td>541.356478</td>\n",
       "      <td>1085.205078</td>\n",
       "      <td>512.0</td>\n",
       "      <td>64100.214067</td>\n",
       "      <td>15.081415</td>\n",
       "      <td>1.778580e+06</td>\n",
       "      <td>4096.0</td>\n",
       "    </tr>\n",
       "    <tr>\n",
       "      <th>1</th>\n",
       "      <td>1024.0</td>\n",
       "      <td>1488895982754236676</td>\n",
       "      <td>16.0</td>\n",
       "      <td>46860.0</td>\n",
       "      <td>668.966711</td>\n",
       "      <td>0.595751</td>\n",
       "      <td>12.372559</td>\n",
       "      <td>1359.886604</td>\n",
       "      <td>25339.0</td>\n",
       "      <td>30.0</td>\n",
       "      <td>...</td>\n",
       "      <td>1415.0</td>\n",
       "      <td>0.599068</td>\n",
       "      <td>12.40625</td>\n",
       "      <td>541.356478</td>\n",
       "      <td>1085.205078</td>\n",
       "      <td>512.0</td>\n",
       "      <td>64100.214067</td>\n",
       "      <td>15.081415</td>\n",
       "      <td>1.778580e+06</td>\n",
       "      <td>4096.0</td>\n",
       "    </tr>\n",
       "    <tr>\n",
       "      <th>2</th>\n",
       "      <td>256.0</td>\n",
       "      <td>1488895982754236676</td>\n",
       "      <td>16.0</td>\n",
       "      <td>46860.0</td>\n",
       "      <td>770.378748</td>\n",
       "      <td>0.595751</td>\n",
       "      <td>12.372559</td>\n",
       "      <td>1359.886604</td>\n",
       "      <td>25339.0</td>\n",
       "      <td>30.0</td>\n",
       "      <td>...</td>\n",
       "      <td>1415.0</td>\n",
       "      <td>0.599068</td>\n",
       "      <td>12.40625</td>\n",
       "      <td>541.356478</td>\n",
       "      <td>1085.205078</td>\n",
       "      <td>512.0</td>\n",
       "      <td>64100.214067</td>\n",
       "      <td>15.081415</td>\n",
       "      <td>1.778580e+06</td>\n",
       "      <td>4096.0</td>\n",
       "    </tr>\n",
       "    <tr>\n",
       "      <th>3</th>\n",
       "      <td>64.0</td>\n",
       "      <td>1488895982754236676</td>\n",
       "      <td>16.0</td>\n",
       "      <td>46860.0</td>\n",
       "      <td>810.664174</td>\n",
       "      <td>0.595751</td>\n",
       "      <td>12.372559</td>\n",
       "      <td>1359.886604</td>\n",
       "      <td>25339.0</td>\n",
       "      <td>30.0</td>\n",
       "      <td>...</td>\n",
       "      <td>1415.0</td>\n",
       "      <td>0.599068</td>\n",
       "      <td>12.40625</td>\n",
       "      <td>541.356478</td>\n",
       "      <td>1085.205078</td>\n",
       "      <td>512.0</td>\n",
       "      <td>64100.214067</td>\n",
       "      <td>15.081415</td>\n",
       "      <td>1.778580e+06</td>\n",
       "      <td>4096.0</td>\n",
       "    </tr>\n",
       "    <tr>\n",
       "      <th>4</th>\n",
       "      <td>512.0</td>\n",
       "      <td>1488895982754236676</td>\n",
       "      <td>16.0</td>\n",
       "      <td>46860.0</td>\n",
       "      <td>669.065921</td>\n",
       "      <td>0.595751</td>\n",
       "      <td>12.372559</td>\n",
       "      <td>1359.886604</td>\n",
       "      <td>25339.0</td>\n",
       "      <td>30.0</td>\n",
       "      <td>...</td>\n",
       "      <td>1415.0</td>\n",
       "      <td>0.599068</td>\n",
       "      <td>12.40625</td>\n",
       "      <td>541.356478</td>\n",
       "      <td>1085.205078</td>\n",
       "      <td>512.0</td>\n",
       "      <td>64100.214067</td>\n",
       "      <td>15.081415</td>\n",
       "      <td>1.778580e+06</td>\n",
       "      <td>4096.0</td>\n",
       "    </tr>\n",
       "  </tbody>\n",
       "</table>\n",
       "<p>5 rows × 23 columns</p>\n",
       "</div>"
      ],
      "text/plain": [
       "   facility_capacity                   id  number of facilities  objective  \\\n",
       "0              128.0  1488895982754236676                  16.0    46860.0   \n",
       "1             1024.0  1488895982754236676                  16.0    46860.0   \n",
       "2              256.0  1488895982754236676                  16.0    46860.0   \n",
       "3               64.0  1488895982754236676                  16.0    46860.0   \n",
       "4              512.0  1488895982754236676                  16.0    46860.0   \n",
       "\n",
       "      runtime  avg_clustering  avg_degree     avg_dist   ecount  max_degree  \\\n",
       "0  750.994267        0.595751   12.372559  1359.886604  25339.0        30.0   \n",
       "1  668.966711        0.595751   12.372559  1359.886604  25339.0        30.0   \n",
       "2  770.378748        0.595751   12.372559  1359.886604  25339.0        30.0   \n",
       "3  810.664174        0.595751   12.372559  1359.886604  25339.0        30.0   \n",
       "4  669.065921        0.595751   12.372559  1359.886604  25339.0        30.0   \n",
       "\n",
       "    ...    network_diam  source_avg_clust  source_avg_degree  source_avg_dist  \\\n",
       "0   ...          1415.0          0.599068           12.40625       541.356478   \n",
       "1   ...          1415.0          0.599068           12.40625       541.356478   \n",
       "2   ...          1415.0          0.599068           12.40625       541.356478   \n",
       "3   ...          1415.0          0.599068           12.40625       541.356478   \n",
       "4   ...          1415.0          0.599068           12.40625       541.356478   \n",
       "\n",
       "   source_avg_eccentricity  source_num  source_std_dist  std_degree  \\\n",
       "0              1085.205078       512.0     64100.214067   15.081415   \n",
       "1              1085.205078       512.0     64100.214067   15.081415   \n",
       "2              1085.205078       512.0     64100.214067   15.081415   \n",
       "3              1085.205078       512.0     64100.214067   15.081415   \n",
       "4              1085.205078       512.0     64100.214067   15.081415   \n",
       "\n",
       "       std_dist  vcount  \n",
       "0  1.778580e+06  4096.0  \n",
       "1  1.778580e+06  4096.0  \n",
       "2  1.778580e+06  4096.0  \n",
       "3  1.778580e+06  4096.0  \n",
       "4  1.778580e+06  4096.0  \n",
       "\n",
       "[5 rows x 23 columns]"
      ]
     },
     "execution_count": 33,
     "metadata": {},
     "output_type": "execute_result"
    }
   ],
   "source": [
    "results"
   ]
  },
  {
   "cell_type": "markdown",
   "metadata": {},
   "source": [
    "The point for capacities = 32 (min available) did not terminate in 3 days."
   ]
  },
  {
   "cell_type": "markdown",
   "metadata": {},
   "source": [
    "## Gurobi scalability on different facility numbers\n",
    "\n",
    "We have 512 customers and capacity of 64, so we need at least 8 facilities and 512 will make a problem trivial"
   ]
  },
  {
   "cell_type": "code",
   "execution_count": 42,
   "metadata": {
    "collapsed": true
   },
   "outputs": [],
   "source": [
    "results = load_results(os.path.join(data_path, \"geometric\", 'k_n4096m512c64a2', \"solutions\", \"gurobi\"), \n",
    "                       os.path.join(data_path,'geometric','k_n4096m512c64a2'))"
   ]
  },
  {
   "cell_type": "code",
   "execution_count": 43,
   "metadata": {
    "collapsed": false
   },
   "outputs": [
    {
     "data": {
      "text/plain": [
       "<matplotlib.text.Text at 0x7f3eb07b35f8>"
      ]
     },
     "execution_count": 43,
     "metadata": {},
     "output_type": "execute_result"
    },
    {
     "data": {
      "image/png": "[encoded data removed]",
      "text/plain": [
       "<matplotlib.figure.Figure at 0x7f3eb0ecae48>"
      ]
     },
     "metadata": {},
     "output_type": "display_data"
    }
   ],
   "source": [
    "fig, ax = plt.subplots(figsize=(4, 3), dpi=300)\n",
    "plt.gca().set_yscale(\"log\", nonposx='clip')\n",
    "plt.gca().set_xscale(\"log\", nonposx='clip')\n",
    "results = results.sort_values(by='number of facilities')\n",
    "plt.plot(results['number of facilities'],results['runtime'],label=\"\")\n",
    "plt.xlabel(\"number of facilities\")\n",
    "plt.ylabel(\"runtime, sec\")\n",
    "plt.title(\"n=4096, m=512, c=64, alpha=2\")\n",
    "# plt.legend()"
   ]
  },
  {
   "cell_type": "code",
   "execution_count": 44,
   "metadata": {
    "collapsed": false
   },
   "outputs": [
    {
     "data": {
      "text/html": [
       "<div>\n",
       "<table border=\"1\" class=\"dataframe\">\n",
       "  <thead>\n",
       "    <tr style=\"text-align: right;\">\n",
       "      <th></th>\n",
       "      <th>facility_capacity</th>\n",
       "      <th>id</th>\n",
       "      <th>number of facilities</th>\n",
       "      <th>objective</th>\n",
       "      <th>runtime</th>\n",
       "      <th>avg_clustering</th>\n",
       "      <th>avg_degree</th>\n",
       "      <th>avg_dist</th>\n",
       "      <th>ecount</th>\n",
       "      <th>max_degree</th>\n",
       "      <th>...</th>\n",
       "      <th>network_diam</th>\n",
       "      <th>source_avg_clust</th>\n",
       "      <th>source_avg_degree</th>\n",
       "      <th>source_avg_dist</th>\n",
       "      <th>source_avg_eccentricity</th>\n",
       "      <th>source_num</th>\n",
       "      <th>source_std_dist</th>\n",
       "      <th>std_degree</th>\n",
       "      <th>std_dist</th>\n",
       "      <th>vcount</th>\n",
       "    </tr>\n",
       "  </thead>\n",
       "  <tbody>\n",
       "    <tr>\n",
       "      <th>2</th>\n",
       "      <td>64.0</td>\n",
       "      <td>1488894763720524546</td>\n",
       "      <td>8.0</td>\n",
       "      <td>69988.0</td>\n",
       "      <td>101801.554449</td>\n",
       "      <td>0.595207</td>\n",
       "      <td>12.232422</td>\n",
       "      <td>1367.341636</td>\n",
       "      <td>25052.0</td>\n",
       "      <td>26.0</td>\n",
       "      <td>...</td>\n",
       "      <td>1426.0</td>\n",
       "      <td>0.59308</td>\n",
       "      <td>12.480469</td>\n",
       "      <td>534.478481</td>\n",
       "      <td>1074.386719</td>\n",
       "      <td>512.0</td>\n",
       "      <td>63311.2285</td>\n",
       "      <td>12.946957</td>\n",
       "      <td>1.816950e+06</td>\n",
       "      <td>4096.0</td>\n",
       "    </tr>\n",
       "    <tr>\n",
       "      <th>4</th>\n",
       "      <td>64.0</td>\n",
       "      <td>1488894763720524546</td>\n",
       "      <td>16.0</td>\n",
       "      <td>47565.0</td>\n",
       "      <td>1294.392113</td>\n",
       "      <td>0.595207</td>\n",
       "      <td>12.232422</td>\n",
       "      <td>1367.341636</td>\n",
       "      <td>25052.0</td>\n",
       "      <td>26.0</td>\n",
       "      <td>...</td>\n",
       "      <td>1426.0</td>\n",
       "      <td>0.59308</td>\n",
       "      <td>12.480469</td>\n",
       "      <td>534.478481</td>\n",
       "      <td>1074.386719</td>\n",
       "      <td>512.0</td>\n",
       "      <td>63311.2285</td>\n",
       "      <td>12.946957</td>\n",
       "      <td>1.816950e+06</td>\n",
       "      <td>4096.0</td>\n",
       "    </tr>\n",
       "    <tr>\n",
       "      <th>0</th>\n",
       "      <td>64.0</td>\n",
       "      <td>1488894763720524546</td>\n",
       "      <td>32.0</td>\n",
       "      <td>31031.0</td>\n",
       "      <td>632.733585</td>\n",
       "      <td>0.595207</td>\n",
       "      <td>12.232422</td>\n",
       "      <td>1367.341636</td>\n",
       "      <td>25052.0</td>\n",
       "      <td>26.0</td>\n",
       "      <td>...</td>\n",
       "      <td>1426.0</td>\n",
       "      <td>0.59308</td>\n",
       "      <td>12.480469</td>\n",
       "      <td>534.478481</td>\n",
       "      <td>1074.386719</td>\n",
       "      <td>512.0</td>\n",
       "      <td>63311.2285</td>\n",
       "      <td>12.946957</td>\n",
       "      <td>1.816950e+06</td>\n",
       "      <td>4096.0</td>\n",
       "    </tr>\n",
       "    <tr>\n",
       "      <th>5</th>\n",
       "      <td>64.0</td>\n",
       "      <td>1488894763720524546</td>\n",
       "      <td>64.0</td>\n",
       "      <td>19479.0</td>\n",
       "      <td>611.697367</td>\n",
       "      <td>0.595207</td>\n",
       "      <td>12.232422</td>\n",
       "      <td>1367.341636</td>\n",
       "      <td>25052.0</td>\n",
       "      <td>26.0</td>\n",
       "      <td>...</td>\n",
       "      <td>1426.0</td>\n",
       "      <td>0.59308</td>\n",
       "      <td>12.480469</td>\n",
       "      <td>534.478481</td>\n",
       "      <td>1074.386719</td>\n",
       "      <td>512.0</td>\n",
       "      <td>63311.2285</td>\n",
       "      <td>12.946957</td>\n",
       "      <td>1.816950e+06</td>\n",
       "      <td>4096.0</td>\n",
       "    </tr>\n",
       "    <tr>\n",
       "      <th>3</th>\n",
       "      <td>64.0</td>\n",
       "      <td>1488894763720524546</td>\n",
       "      <td>128.0</td>\n",
       "      <td>11081.0</td>\n",
       "      <td>544.516839</td>\n",
       "      <td>0.595207</td>\n",
       "      <td>12.232422</td>\n",
       "      <td>1367.341636</td>\n",
       "      <td>25052.0</td>\n",
       "      <td>26.0</td>\n",
       "      <td>...</td>\n",
       "      <td>1426.0</td>\n",
       "      <td>0.59308</td>\n",
       "      <td>12.480469</td>\n",
       "      <td>534.478481</td>\n",
       "      <td>1074.386719</td>\n",
       "      <td>512.0</td>\n",
       "      <td>63311.2285</td>\n",
       "      <td>12.946957</td>\n",
       "      <td>1.816950e+06</td>\n",
       "      <td>4096.0</td>\n",
       "    </tr>\n",
       "    <tr>\n",
       "      <th>1</th>\n",
       "      <td>64.0</td>\n",
       "      <td>1488894763720524546</td>\n",
       "      <td>256.0</td>\n",
       "      <td>4928.0</td>\n",
       "      <td>533.265117</td>\n",
       "      <td>0.595207</td>\n",
       "      <td>12.232422</td>\n",
       "      <td>1367.341636</td>\n",
       "      <td>25052.0</td>\n",
       "      <td>26.0</td>\n",
       "      <td>...</td>\n",
       "      <td>1426.0</td>\n",
       "      <td>0.59308</td>\n",
       "      <td>12.480469</td>\n",
       "      <td>534.478481</td>\n",
       "      <td>1074.386719</td>\n",
       "      <td>512.0</td>\n",
       "      <td>63311.2285</td>\n",
       "      <td>12.946957</td>\n",
       "      <td>1.816950e+06</td>\n",
       "      <td>4096.0</td>\n",
       "    </tr>\n",
       "  </tbody>\n",
       "</table>\n",
       "<p>6 rows × 23 columns</p>\n",
       "</div>"
      ],
      "text/plain": [
       "   facility_capacity                   id  number of facilities  objective  \\\n",
       "2               64.0  1488894763720524546                   8.0    69988.0   \n",
       "4               64.0  1488894763720524546                  16.0    47565.0   \n",
       "0               64.0  1488894763720524546                  32.0    31031.0   \n",
       "5               64.0  1488894763720524546                  64.0    19479.0   \n",
       "3               64.0  1488894763720524546                 128.0    11081.0   \n",
       "1               64.0  1488894763720524546                 256.0     4928.0   \n",
       "\n",
       "         runtime  avg_clustering  avg_degree     avg_dist   ecount  \\\n",
       "2  101801.554449        0.595207   12.232422  1367.341636  25052.0   \n",
       "4    1294.392113        0.595207   12.232422  1367.341636  25052.0   \n",
       "0     632.733585        0.595207   12.232422  1367.341636  25052.0   \n",
       "5     611.697367        0.595207   12.232422  1367.341636  25052.0   \n",
       "3     544.516839        0.595207   12.232422  1367.341636  25052.0   \n",
       "1     533.265117        0.595207   12.232422  1367.341636  25052.0   \n",
       "\n",
       "   max_degree   ...    network_diam  source_avg_clust  source_avg_degree  \\\n",
       "2        26.0   ...          1426.0           0.59308          12.480469   \n",
       "4        26.0   ...          1426.0           0.59308          12.480469   \n",
       "0        26.0   ...          1426.0           0.59308          12.480469   \n",
       "5        26.0   ...          1426.0           0.59308          12.480469   \n",
       "3        26.0   ...          1426.0           0.59308          12.480469   \n",
       "1        26.0   ...          1426.0           0.59308          12.480469   \n",
       "\n",
       "   source_avg_dist  source_avg_eccentricity  source_num  source_std_dist  \\\n",
       "2       534.478481              1074.386719       512.0       63311.2285   \n",
       "4       534.478481              1074.386719       512.0       63311.2285   \n",
       "0       534.478481              1074.386719       512.0       63311.2285   \n",
       "5       534.478481              1074.386719       512.0       63311.2285   \n",
       "3       534.478481              1074.386719       512.0       63311.2285   \n",
       "1       534.478481              1074.386719       512.0       63311.2285   \n",
       "\n",
       "   std_degree      std_dist  vcount  \n",
       "2   12.946957  1.816950e+06  4096.0  \n",
       "4   12.946957  1.816950e+06  4096.0  \n",
       "0   12.946957  1.816950e+06  4096.0  \n",
       "5   12.946957  1.816950e+06  4096.0  \n",
       "3   12.946957  1.816950e+06  4096.0  \n",
       "1   12.946957  1.816950e+06  4096.0  \n",
       "\n",
       "[6 rows x 23 columns]"
      ]
     },
     "execution_count": 44,
     "metadata": {},
     "output_type": "execute_result"
    }
   ],
   "source": [
    "results"
   ]
  },
  {
   "cell_type": "markdown",
   "metadata": {},
   "source": [
    "Note, that for 8 facilities it takes about 3 hours to process 512 customers."
   ]
  },
  {
   "cell_type": "markdown",
   "metadata": {},
   "source": [
    "## Gurobi scalability on different number of customers\n",
    "\n",
    "Here we run 8 facilities with 128 capacity on various cusotmers in a graph with 4096 nodes"
   ]
  },
  {
   "cell_type": "markdown",
   "metadata": {},
   "source": [
    "m_n1000k20c10a2/1488893247670406634.ntw did not terminate in 5 days with 1024 customers"
   ]
  },
  {
   "cell_type": "code",
   "execution_count": 18,
   "metadata": {
    "collapsed": false
   },
   "outputs": [],
   "source": [
    "results = load_results(os.path.join(data_path, \"geometric\", 'm_n4096k16c64a2', \"solutions\", \"gurobi\"), \n",
    "                       os.path.join(data_path,'geometric','m_n4096k16c64a2'))\n",
    "results_fcla = load_results(os.path.join(data_path, \"geometric\", 'm_n4096k16c64a2', \"solutions\", \"fcla\"), \n",
    "                       os.path.join(data_path,'geometric','m_n4096k16c64a2'))"
   ]
  },
  {
   "cell_type": "code",
   "execution_count": 19,
   "metadata": {
    "collapsed": false
   },
   "outputs": [
    {
     "data": {
      "text/plain": [
       "<matplotlib.text.Text at 0x7f00cf79ea90>"
      ]
     },
     "execution_count": 19,
     "metadata": {},
     "output_type": "execute_result"
    },
    {
     "data": {
      "image/png": "[encoded data removed]",
      "text/plain": [
       "<matplotlib.figure.Figure at 0x7f00cf73f710>"
      ]
     },
     "metadata": {},
     "output_type": "display_data"
    }
   ],
   "source": [
    "fig, ax = plt.subplots(figsize=(4, 3), dpi=300)\n",
    "plt.gca().set_yscale(\"log\", nonposx='clip')\n",
    "plt.gca().set_xscale(\"log\", nonposx='clip')\n",
    "results = results.sort_values(by='source_num')\n",
    "results_fcla = results_fcla.sort_values(by='source_num')\n",
    "plt.plot(results['source_num'],results['runtime'],label=\"Gurobi\")\n",
    "plt.plot(results_fcla['source_num'],results_fcla['runtime'],label=\"WMA\")\n",
    "plt.xlabel(\"number of customers\")\n",
    "plt.ylabel(\"runtime, sec\")\n",
    "plt.legend()\n",
    "plt.title(\"n=4096, k=16, c=64, alpha=2\")"
   ]
  },
  {
   "cell_type": "code",
   "execution_count": 20,
   "metadata": {
    "collapsed": false
   },
   "outputs": [
    {
     "data": {
      "text/plain": [
       "<matplotlib.text.Text at 0x7f00cf54bcc0>"
      ]
     },
     "execution_count": 20,
     "metadata": {},
     "output_type": "execute_result"
    },
    {
     "data": {
      "image/png": "[encoded data removed]",
      "text/plain": [
       "<matplotlib.figure.Figure at 0x7f00cf3a9828>"
      ]
     },
     "metadata": {},
     "output_type": "display_data"
    }
   ],
   "source": [
    "fig, ax = plt.subplots(figsize=(4, 3), dpi=300)\n",
    "plt.gca().set_yscale(\"log\", nonposx='clip')\n",
    "plt.gca().set_xscale(\"log\", nonposx='clip')\n",
    "results = results.sort_values(by='source_num')\n",
    "results_fcla = results_fcla.sort_values(by='source_num')\n",
    "plt.plot(results['source_num'],results['objective'],label=\"Gurobi\")\n",
    "plt.plot(results_fcla['source_num'],results_fcla['objective'],label=\"WMA\")\n",
    "plt.xlabel(\"number of customers\")\n",
    "plt.ylabel(\"objective\")\n",
    "plt.legend()\n",
    "plt.title(\"n=4096, k=16, c=64, alpha=2\")"
   ]
  },
  {
   "cell_type": "markdown",
   "metadata": {},
   "source": [
    "## Gurobi scalability on graph density\n",
    "\n",
    "Graph density is defined by parameter alpha, that is max distance between connected nodes (alpha*sqrt(N))"
   ]
  },
  {
   "cell_type": "markdown",
   "metadata": {},
   "source": [
    "1488896765716165488.ntw did not terminate in 5 days, with average degree = 136, but density only 2 (??)"
   ]
  },
  {
   "cell_type": "code",
   "execution_count": 79,
   "metadata": {
    "collapsed": false
   },
   "outputs": [],
   "source": [
    "results = load_results(os.path.join(data_path, \"geometric\", 'a_n2048c16k32m256', \"solutions\", \"gurobi\"), \n",
    "                       os.path.join(data_path,'geometric','a_n2048c16k32m256'))"
   ]
  },
  {
   "cell_type": "code",
   "execution_count": 80,
   "metadata": {
    "collapsed": false
   },
   "outputs": [
    {
     "data": {
      "text/html": [
       "<div>\n",
       "<table border=\"1\" class=\"dataframe\">\n",
       "  <thead>\n",
       "    <tr style=\"text-align: right;\">\n",
       "      <th></th>\n",
       "      <th>facility_capacity</th>\n",
       "      <th>id</th>\n",
       "      <th>number of facilities</th>\n",
       "      <th>objective</th>\n",
       "      <th>runtime</th>\n",
       "      <th>error</th>\n",
       "      <th>avg_clustering</th>\n",
       "      <th>avg_degree</th>\n",
       "      <th>avg_dist</th>\n",
       "      <th>ecount</th>\n",
       "      <th>max_degree</th>\n",
       "      <th>max_dist</th>\n",
       "      <th>min_degree</th>\n",
       "      <th>min_dist</th>\n",
       "      <th>source_avg_clust</th>\n",
       "      <th>source_avg_degree</th>\n",
       "      <th>source_num</th>\n",
       "      <th>std_degree</th>\n",
       "      <th>std_dist</th>\n",
       "      <th>vcount</th>\n",
       "    </tr>\n",
       "  </thead>\n",
       "  <tbody>\n",
       "    <tr>\n",
       "      <th>0</th>\n",
       "      <td>16.0</td>\n",
       "      <td>1489399105616995159</td>\n",
       "      <td>32.0</td>\n",
       "      <td>13308.0</td>\n",
       "      <td>102.237795</td>\n",
       "      <td>NaN</td>\n",
       "      <td>0.625924</td>\n",
       "      <td>71.575195</td>\n",
       "      <td>693.709940</td>\n",
       "      <td>73293.0</td>\n",
       "      <td>104.0</td>\n",
       "      <td>2047.0</td>\n",
       "      <td>18.0</td>\n",
       "      <td>0.0</td>\n",
       "      <td>0.629902</td>\n",
       "      <td>72.070312</td>\n",
       "      <td>256.0</td>\n",
       "      <td>218.518760</td>\n",
       "      <td>408941.541241</td>\n",
       "      <td>2048.0</td>\n",
       "    </tr>\n",
       "    <tr>\n",
       "      <th>1</th>\n",
       "      <td>16.0</td>\n",
       "      <td>1489399105522562575</td>\n",
       "      <td>32.0</td>\n",
       "      <td>13309.0</td>\n",
       "      <td>97.401305</td>\n",
       "      <td>NaN</td>\n",
       "      <td>0.622388</td>\n",
       "      <td>58.837891</td>\n",
       "      <td>691.579823</td>\n",
       "      <td>60250.0</td>\n",
       "      <td>88.0</td>\n",
       "      <td>2047.0</td>\n",
       "      <td>16.0</td>\n",
       "      <td>0.0</td>\n",
       "      <td>0.624660</td>\n",
       "      <td>59.574219</td>\n",
       "      <td>256.0</td>\n",
       "      <td>155.312588</td>\n",
       "      <td>413465.694306</td>\n",
       "      <td>2048.0</td>\n",
       "    </tr>\n",
       "    <tr>\n",
       "      <th>2</th>\n",
       "      <td>16.0</td>\n",
       "      <td>1489399105728313582</td>\n",
       "      <td>32.0</td>\n",
       "      <td>13308.0</td>\n",
       "      <td>98.593141</td>\n",
       "      <td>NaN</td>\n",
       "      <td>0.629959</td>\n",
       "      <td>85.757812</td>\n",
       "      <td>696.273139</td>\n",
       "      <td>87816.0</td>\n",
       "      <td>124.0</td>\n",
       "      <td>2047.0</td>\n",
       "      <td>21.0</td>\n",
       "      <td>0.0</td>\n",
       "      <td>0.632593</td>\n",
       "      <td>86.242188</td>\n",
       "      <td>256.0</td>\n",
       "      <td>310.808533</td>\n",
       "      <td>404315.566060</td>\n",
       "      <td>2048.0</td>\n",
       "    </tr>\n",
       "    <tr>\n",
       "      <th>3</th>\n",
       "      <td>16.0</td>\n",
       "      <td>1489399105443545320</td>\n",
       "      <td>32.0</td>\n",
       "      <td>13312.0</td>\n",
       "      <td>98.778276</td>\n",
       "      <td>NaN</td>\n",
       "      <td>0.617558</td>\n",
       "      <td>46.934570</td>\n",
       "      <td>689.950556</td>\n",
       "      <td>48061.0</td>\n",
       "      <td>74.0</td>\n",
       "      <td>2047.0</td>\n",
       "      <td>12.0</td>\n",
       "      <td>0.0</td>\n",
       "      <td>0.620573</td>\n",
       "      <td>47.578125</td>\n",
       "      <td>256.0</td>\n",
       "      <td>106.121696</td>\n",
       "      <td>418602.494389</td>\n",
       "      <td>2048.0</td>\n",
       "    </tr>\n",
       "    <tr>\n",
       "      <th>4</th>\n",
       "      <td>16.0</td>\n",
       "      <td>1489399105378805858</td>\n",
       "      <td>32.0</td>\n",
       "      <td>13330.0</td>\n",
       "      <td>98.444470</td>\n",
       "      <td>NaN</td>\n",
       "      <td>0.613535</td>\n",
       "      <td>36.345703</td>\n",
       "      <td>687.784361</td>\n",
       "      <td>37218.0</td>\n",
       "      <td>59.0</td>\n",
       "      <td>2047.0</td>\n",
       "      <td>9.0</td>\n",
       "      <td>0.0</td>\n",
       "      <td>0.616786</td>\n",
       "      <td>37.082031</td>\n",
       "      <td>256.0</td>\n",
       "      <td>69.822872</td>\n",
       "      <td>423772.051400</td>\n",
       "      <td>2048.0</td>\n",
       "    </tr>\n",
       "    <tr>\n",
       "      <th>5</th>\n",
       "      <td>16.0</td>\n",
       "      <td>1489399105284357674</td>\n",
       "      <td>32.0</td>\n",
       "      <td>13442.0</td>\n",
       "      <td>95.832516</td>\n",
       "      <td>NaN</td>\n",
       "      <td>0.605995</td>\n",
       "      <td>19.040039</td>\n",
       "      <td>683.706741</td>\n",
       "      <td>19497.0</td>\n",
       "      <td>34.0</td>\n",
       "      <td>2047.0</td>\n",
       "      <td>4.0</td>\n",
       "      <td>0.0</td>\n",
       "      <td>0.605969</td>\n",
       "      <td>19.367188</td>\n",
       "      <td>256.0</td>\n",
       "      <td>27.643905</td>\n",
       "      <td>433985.949270</td>\n",
       "      <td>2048.0</td>\n",
       "    </tr>\n",
       "    <tr>\n",
       "      <th>6</th>\n",
       "      <td>16.0</td>\n",
       "      <td>1489399105252662276</td>\n",
       "      <td>32.0</td>\n",
       "      <td>13914.0</td>\n",
       "      <td>102.210257</td>\n",
       "      <td>NaN</td>\n",
       "      <td>0.602014</td>\n",
       "      <td>12.282227</td>\n",
       "      <td>679.367337</td>\n",
       "      <td>12577.0</td>\n",
       "      <td>26.0</td>\n",
       "      <td>2047.0</td>\n",
       "      <td>2.0</td>\n",
       "      <td>0.0</td>\n",
       "      <td>0.595208</td>\n",
       "      <td>12.558594</td>\n",
       "      <td>256.0</td>\n",
       "      <td>15.695739</td>\n",
       "      <td>438207.790324</td>\n",
       "      <td>2048.0</td>\n",
       "    </tr>\n",
       "    <tr>\n",
       "      <th>7</th>\n",
       "      <td>16.0</td>\n",
       "      <td>1489399105227066246</td>\n",
       "      <td>32.0</td>\n",
       "      <td>NaN</td>\n",
       "      <td>NaN</td>\n",
       "      <td>graph is not connected</td>\n",
       "      <td>0.589832</td>\n",
       "      <td>6.948242</td>\n",
       "      <td>671.374092</td>\n",
       "      <td>7115.0</td>\n",
       "      <td>17.0</td>\n",
       "      <td>2047.0</td>\n",
       "      <td>0.0</td>\n",
       "      <td>0.0</td>\n",
       "      <td>0.570423</td>\n",
       "      <td>7.085938</td>\n",
       "      <td>256.0</td>\n",
       "      <td>7.953376</td>\n",
       "      <td>440260.444688</td>\n",
       "      <td>2048.0</td>\n",
       "    </tr>\n",
       "    <tr>\n",
       "      <th>8</th>\n",
       "      <td>16.0</td>\n",
       "      <td>1489399105858333704</td>\n",
       "      <td>32.0</td>\n",
       "      <td>13308.0</td>\n",
       "      <td>99.598997</td>\n",
       "      <td>NaN</td>\n",
       "      <td>0.633817</td>\n",
       "      <td>100.772461</td>\n",
       "      <td>698.141760</td>\n",
       "      <td>103191.0</td>\n",
       "      <td>147.0</td>\n",
       "      <td>2047.0</td>\n",
       "      <td>23.0</td>\n",
       "      <td>0.0</td>\n",
       "      <td>0.637851</td>\n",
       "      <td>100.851562</td>\n",
       "      <td>256.0</td>\n",
       "      <td>432.993148</td>\n",
       "      <td>399435.402447</td>\n",
       "      <td>2048.0</td>\n",
       "    </tr>\n",
       "    <tr>\n",
       "      <th>9</th>\n",
       "      <td>16.0</td>\n",
       "      <td>1489399105326635889</td>\n",
       "      <td>32.0</td>\n",
       "      <td>13362.0</td>\n",
       "      <td>97.884505</td>\n",
       "      <td>NaN</td>\n",
       "      <td>0.609749</td>\n",
       "      <td>26.928711</td>\n",
       "      <td>685.543741</td>\n",
       "      <td>27575.0</td>\n",
       "      <td>44.0</td>\n",
       "      <td>2047.0</td>\n",
       "      <td>8.0</td>\n",
       "      <td>0.0</td>\n",
       "      <td>0.608480</td>\n",
       "      <td>27.625000</td>\n",
       "      <td>256.0</td>\n",
       "      <td>44.461715</td>\n",
       "      <td>427299.384188</td>\n",
       "      <td>2048.0</td>\n",
       "    </tr>\n",
       "  </tbody>\n",
       "</table>\n",
       "</div>"
      ],
      "text/plain": [
       "   facility_capacity                   id  number of facilities  objective  \\\n",
       "0               16.0  1489399105616995159                  32.0    13308.0   \n",
       "1               16.0  1489399105522562575                  32.0    13309.0   \n",
       "2               16.0  1489399105728313582                  32.0    13308.0   \n",
       "3               16.0  1489399105443545320                  32.0    13312.0   \n",
       "4               16.0  1489399105378805858                  32.0    13330.0   \n",
       "5               16.0  1489399105284357674                  32.0    13442.0   \n",
       "6               16.0  1489399105252662276                  32.0    13914.0   \n",
       "7               16.0  1489399105227066246                  32.0        NaN   \n",
       "8               16.0  1489399105858333704                  32.0    13308.0   \n",
       "9               16.0  1489399105326635889                  32.0    13362.0   \n",
       "\n",
       "      runtime                   error  avg_clustering  avg_degree    avg_dist  \\\n",
       "0  102.237795                     NaN        0.625924   71.575195  693.709940   \n",
       "1   97.401305                     NaN        0.622388   58.837891  691.579823   \n",
       "2   98.593141                     NaN        0.629959   85.757812  696.273139   \n",
       "3   98.778276                     NaN        0.617558   46.934570  689.950556   \n",
       "4   98.444470                     NaN        0.613535   36.345703  687.784361   \n",
       "5   95.832516                     NaN        0.605995   19.040039  683.706741   \n",
       "6  102.210257                     NaN        0.602014   12.282227  679.367337   \n",
       "7         NaN  graph is not connected        0.589832    6.948242  671.374092   \n",
       "8   99.598997                     NaN        0.633817  100.772461  698.141760   \n",
       "9   97.884505                     NaN        0.609749   26.928711  685.543741   \n",
       "\n",
       "     ecount  max_degree  max_dist  min_degree  min_dist  source_avg_clust  \\\n",
       "0   73293.0       104.0    2047.0        18.0       0.0          0.629902   \n",
       "1   60250.0        88.0    2047.0        16.0       0.0          0.624660   \n",
       "2   87816.0       124.0    2047.0        21.0       0.0          0.632593   \n",
       "3   48061.0        74.0    2047.0        12.0       0.0          0.620573   \n",
       "4   37218.0        59.0    2047.0         9.0       0.0          0.616786   \n",
       "5   19497.0        34.0    2047.0         4.0       0.0          0.605969   \n",
       "6   12577.0        26.0    2047.0         2.0       0.0          0.595208   \n",
       "7    7115.0        17.0    2047.0         0.0       0.0          0.570423   \n",
       "8  103191.0       147.0    2047.0        23.0       0.0          0.637851   \n",
       "9   27575.0        44.0    2047.0         8.0       0.0          0.608480   \n",
       "\n",
       "   source_avg_degree  source_num  std_degree       std_dist  vcount  \n",
       "0          72.070312       256.0  218.518760  408941.541241  2048.0  \n",
       "1          59.574219       256.0  155.312588  413465.694306  2048.0  \n",
       "2          86.242188       256.0  310.808533  404315.566060  2048.0  \n",
       "3          47.578125       256.0  106.121696  418602.494389  2048.0  \n",
       "4          37.082031       256.0   69.822872  423772.051400  2048.0  \n",
       "5          19.367188       256.0   27.643905  433985.949270  2048.0  \n",
       "6          12.558594       256.0   15.695739  438207.790324  2048.0  \n",
       "7           7.085938       256.0    7.953376  440260.444688  2048.0  \n",
       "8         100.851562       256.0  432.993148  399435.402447  2048.0  \n",
       "9          27.625000       256.0   44.461715  427299.384188  2048.0  "
      ]
     },
     "execution_count": 80,
     "metadata": {},
     "output_type": "execute_result"
    }
   ],
   "source": [
    "results"
   ]
  },
  {
   "cell_type": "code",
   "execution_count": 81,
   "metadata": {
    "collapsed": false
   },
   "outputs": [
    {
     "data": {
      "text/plain": [
       "<matplotlib.text.Text at 0x7f3eafb18ba8>"
      ]
     },
     "execution_count": 81,
     "metadata": {},
     "output_type": "execute_result"
    },
    {
     "data": {
      "image/png": "[encoded data removed]",
      "text/plain": [
       "<matplotlib.figure.Figure at 0x7f3eafa38320>"
      ]
     },
     "metadata": {},
     "output_type": "display_data"
    }
   ],
   "source": [
    "fig, ax = plt.subplots(figsize=(4, 3), dpi=300)\n",
    "results = results.sort_values(by='avg_degree')\n",
    "plt.plot(results['avg_degree'],results['runtime'],label=\"\")\n",
    "plt.xlabel(\"avg_degree\")\n",
    "plt.ylabel(\"runtime, sec\")\n",
    "plt.title(\"n=4096, m=512, c=64, alpha=2\")"
   ]
  },
  {
   "cell_type": "markdown",
   "metadata": {
    "collapsed": true
   },
   "source": [
    "Runtime slightly increases, but actual customer/degree distributions are more significant"
   ]
  },
  {
   "cell_type": "code",
   "execution_count": null,
   "metadata": {
    "collapsed": true
   },
   "outputs": [],
   "source": []
  }
 ],
 "metadata": {
  "kernelspec": {
   "display_name": "Python 3",
   "language": "python",
   "name": "python3"
  },
  "language_info": {
   "codemirror_mode": {
    "name": "ipython",
    "version": 3
   },
   "file_extension": ".py",
   "mimetype": "text/x-python",
   "name": "python",
   "nbconvert_exporter": "python",
   "pygments_lexer": "ipython3",
   "version": "3.4.3"
  }
 },
 "nbformat": 4,
 "nbformat_minor": 2
}
