{
 "cells": [
  {
   "cell_type": "markdown",
   "metadata": {},
   "source": [
    "Notebook for cleaning graphs from unrelated roads and apartment areas."
   ]
  },
  {
   "cell_type": "code",
   "execution_count": 83,
   "metadata": {
    "collapsed": true,
    "deletable": true,
    "editable": true
   },
   "outputs": [],
   "source": [
    "import matplotlib.pyplot as plt\n",
    "%matplotlib inline\n",
    "from imposm.parser import OSMParser\n",
    "import networkx as nx\n",
    "import pandas as pd\n",
    "import numpy as np\n",
    "import pickle as pkl\n",
    "# import seaborn as sbn\n",
    "import math\n",
    "from tqdm import *"
   ]
  },
  {
   "cell_type": "code",
   "execution_count": null,
   "metadata": {
    "collapsed": false,
    "deletable": true,
    "editable": true
   },
   "outputs": [
    {
     "name": "stdout",
     "output_type": "stream",
     "text": [
      "1501063804349715808\n"
     ]
    }
   ],
   "source": [
    "G = nx.Graph()\n",
    "node_lat = {}\n",
    "node_lon = {}\n",
    "graph_id = 0\n",
    "with open('../bin/moscow_sample.ntw','r') as f:\n",
    "    t = f.readline().split()\n",
    "    graph_id = int(t[0])\n",
    "    print(t[0])\n",
    "    nodes = int(t[1])\n",
    "    edges = int(t[2])\n",
    "    for i in range(edges):\n",
    "        info = f.readline().split()\n",
    "        id1 = int(info[0])\n",
    "        id2 = int(info[1])\n",
    "        assert(id1 < nodes)\n",
    "        assert(id2 < nodes)\n",
    "        G.add_edge(id1, id2, weight=info[2], etype=info[3])\n",
    "    for i in range(nodes):\n",
    "        info = f.readline().split()\n",
    "        node_lat[i] = info[0]\n",
    "        node_lon[i] = info[1]\n",
    "        if i not in G:\n",
    "            G.add_node(i)\n",
    "nx.set_node_attributes(G, 'lat', node_lat)\n",
    "nx.set_node_attributes(G, 'lon', node_lon)"
   ]
  },
  {
   "cell_type": "code",
   "execution_count": null,
   "metadata": {
    "collapsed": false,
    "deletable": true,
    "editable": true
   },
   "outputs": [],
   "source": [
    "to_delete = []\n",
    "for edge in nx.edges_iter(G):\n",
    "    if G[edge[0]][edge[1]][\"etype\"] in [\"unrelated\",'cycleway','pedestrian','footway','steps','path']:\n",
    "        to_delete.append(edge)\n",
    "for e in to_delete:\n",
    "    G.remove_edge(e[0],e[1])\n",
    "    \n",
    "to_delete = []\n",
    "for node in nx.nodes_iter(G):\n",
    "    if G.degree(node) < 1:\n",
    "        to_delete.append(node)\n",
    "for n in to_delete:\n",
    "    G.remove_node(n)"
   ]
  },
  {
   "cell_type": "code",
   "execution_count": null,
   "metadata": {
    "collapsed": false,
    "deletable": true,
    "editable": true
   },
   "outputs": [],
   "source": [
    "len(G)"
   ]
  },
  {
   "cell_type": "code",
   "execution_count": null,
   "metadata": {
    "collapsed": false,
    "deletable": true,
    "editable": true
   },
   "outputs": [],
   "source": [
    "graphs = list(nx.connected_component_subgraphs(G))\n",
    "print(len(list(graphs)))\n",
    "for g in graphs:\n",
    "    if len(g) > 2000:\n",
    "        print(len(g))"
   ]
  },
  {
   "cell_type": "code",
   "execution_count": null,
   "metadata": {
    "collapsed": false,
    "deletable": true,
    "editable": true
   },
   "outputs": [],
   "source": [
    "for g in graphs:\n",
    "    if len(g) > 2000:\n",
    "        print(len(g))\n",
    "        G = g\n",
    "        break"
   ]
  },
  {
   "cell_type": "code",
   "execution_count": 68,
   "metadata": {
    "collapsed": false,
    "deletable": true,
    "editable": true
   },
   "outputs": [
    {
     "data": {
      "text/plain": [
       "1"
      ]
     },
     "execution_count": 68,
     "metadata": {},
     "output_type": "execute_result"
    }
   ],
   "source": [
    "len(list(nx.connected_component_subgraphs(G)))"
   ]
  },
  {
   "cell_type": "code",
   "execution_count": 73,
   "metadata": {
    "collapsed": false,
    "deletable": true,
    "editable": true
   },
   "outputs": [
    {
     "name": "stderr",
     "output_type": "stream",
     "text": [
      "100%|██████████| 10/10 [00:07<00:00,  1.29it/s]\n"
     ]
    }
   ],
   "source": [
    "#export with certain number of customers and readible format\n",
    "new_node_map = {}\n",
    "i = 0\n",
    "for n in G.nodes(data=True):\n",
    "    new_node_map[n[0]] = i\n",
    "    i += 1\n",
    "\n",
    "for sources in tqdm([2**x for x in range(7,17)]):    \n",
    "    graph_id += 1\n",
    "    with open('../data/aalborg/modified/' + str(graph_id) + \".ntw\",'w') as f:\n",
    "        f.write(\"%d %d %d %d\\n\" % (graph_id, len(G), nx.number_of_edges(G), sources)) \n",
    "        for e in G.edges(data=True):\n",
    "            f.write(\"%d %d %s\\n\" % (new_node_map[e[0]], new_node_map[e[1]], e[2]['weight']))\n",
    "        for i in np.random.choice(len(G), sources):\n",
    "            f.write(\"%d\\n\" % i)\n",
    "        i = 0\n",
    "        for n in G.nodes(data=True):\n",
    "            assert(new_node_map[n[0]] == i)\n",
    "            i += 1\n",
    "            f.write(\"%s %s\\n\" % (n[1]['lat'], n[1]['lon']))"
   ]
  },
  {
   "cell_type": "code",
   "execution_count": 82,
   "metadata": {
    "collapsed": false,
    "deletable": true,
    "editable": true
   },
   "outputs": [],
   "source": [
    "#single file\n",
    "new_node_map = {}\n",
    "i = 0\n",
    "for n in G.nodes(data=True):\n",
    "    new_node_map[n[0]] = i\n",
    "    i += 1\n",
    "\n",
    "graph_id += 1\n",
    "sources = 512\n",
    "with open('../data/riga_512.ntw','w') as f:\n",
    "    f.write(\"%d %d %d %d\\n\" % (graph_id, len(G), nx.number_of_edges(G), sources)) \n",
    "    for e in G.edges(data=True):\n",
    "        f.write(\"%d %d %s\\n\" % (new_node_map[e[0]], new_node_map[e[1]], e[2]['weight']))\n",
    "    for i in np.random.choice(len(G), sources):\n",
    "        f.write(\"%d\\n\" % i)\n",
    "    i = 0\n",
    "    for n in G.nodes(data=True):\n",
    "        assert(new_node_map[n[0]] == i)\n",
    "        i += 1\n",
    "        f.write(\"%s %s\\n\" % (n[1]['lat'], n[1]['lon']))"
   ]
  },
  {
   "cell_type": "code",
   "execution_count": 74,
   "metadata": {
    "collapsed": false,
    "deletable": true,
    "editable": true
   },
   "outputs": [
    {
     "name": "stdout",
     "output_type": "stream",
     "text": [
      "(131072, {'lat': '10791.4', 'lon': '5700.07'})\n"
     ]
    }
   ],
   "source": [
    "for n in G.nodes(data=True):\n",
    "    print(n)\n",
    "    break"
   ]
  },
  {
   "cell_type": "code",
   "execution_count": null,
   "metadata": {
    "collapsed": true,
    "deletable": true,
    "editable": true
   },
   "outputs": [],
   "source": []
  }
 ],
 "metadata": {
  "kernelspec": {
   "display_name": "Python 2",
   "language": "python",
   "name": "python2"
  },
  "language_info": {
   "codemirror_mode": {
    "name": "ipython",
    "version": 2
   },
   "file_extension": ".py",
   "mimetype": "text/x-python",
   "name": "python",
   "nbconvert_exporter": "python",
   "pygments_lexer": "ipython2",
   "version": "2.7.13"
  }
 },
 "nbformat": 4,
 "nbformat_minor": 2
}
